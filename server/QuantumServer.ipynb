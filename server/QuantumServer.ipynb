{
 "cells": [
  {
   "cell_type": "code",
   "execution_count": 1,
   "id": "2844573c",
   "metadata": {},
   "outputs": [],
   "source": [
    "a = [20, 39, 40]"
   ]
  },
  {
   "cell_type": "code",
   "execution_count": 2,
   "id": "f5d83893",
   "metadata": {},
   "outputs": [
    {
     "name": "stdout",
     "output_type": "stream",
     "text": [
      "Server started http://localhost:8082\n",
      "inside post\n",
      "BODY:  {'glossary': {'title': 'example glossary', 'GlossDiv': {'title': 'S', 'GlossList': {'GlossEntry': {'ID': 'SGML', 'SortAs': 'SGML', 'GlossTerm': 'Standard Generalized Markup Language', 'Acronym': 'SGML', 'Abbrev': 'ISO 8879:1986', 'GlossDef': {'para': 'A meta-markup language, used to create markup languages such as DocBook.', 'GlossSeeAlso': ['GML', 'XML']}, 'GlossSee': 'markup'}}}}}\n"
     ]
    },
    {
     "name": "stderr",
     "output_type": "stream",
     "text": [
      "127.0.0.1 - - [09/Jun/2023 20:44:46] \"POST / HTTP/1.1\" 200 -\n"
     ]
    },
    {
     "name": "stdout",
     "output_type": "stream",
     "text": [
      "inside post\n",
      "BODY:  {\"n\": 1, \"m\": 1, \"gates\": [[[500, \"SPAWNED_catnip_gate\"]]], \"cats\": [\"asleep\"], \"output\": [1]}\n"
     ]
    },
    {
     "name": "stderr",
     "output_type": "stream",
     "text": [
      "127.0.0.1 - - [09/Jun/2023 20:45:59] \"POST / HTTP/1.1\" 200 -\n"
     ]
    },
    {
     "name": "stdout",
     "output_type": "stream",
     "text": [
      "inside post\n",
      "BODY:  {\"n\": 1, \"m\": 1, \"gates\": [[\"SPAWNED_catnip_gate\"]], \"cats\": [\"asleep\"], \"output\": [1]}\n"
     ]
    },
    {
     "name": "stderr",
     "output_type": "stream",
     "text": [
      "127.0.0.1 - - [09/Jun/2023 20:47:47] \"POST / HTTP/1.1\" 200 -\n"
     ]
    },
    {
     "name": "stdout",
     "output_type": "stream",
     "text": [
      "inside post\n",
      "BODY:  {\"n\": 1, \"m\": 1, \"gates\": [[\"catnip_gate\"]], \"cats\": [\"asleep\"], \"output\": [1]}\n"
     ]
    },
    {
     "name": "stderr",
     "output_type": "stream",
     "text": [
      "127.0.0.1 - - [09/Jun/2023 20:50:01] \"POST / HTTP/1.1\" 200 -\n"
     ]
    },
    {
     "name": "stdout",
     "output_type": "stream",
     "text": [
      "inside post\n",
      "BODY:  {\"n\": 4, \"m\": 1, \"gates\": [[\"catnip_gate\"], [\"catnip_gate\"], [\"catnip_gate\"], [\"catnip_gate\"]], \"cats\": [\"asleep\", \"asleep\", \"asleep\", \"asleep\"], \"output\": [0, 0, 0, 0]}\n"
     ]
    },
    {
     "name": "stderr",
     "output_type": "stream",
     "text": [
      "127.0.0.1 - - [09/Jun/2023 20:50:17] \"POST / HTTP/1.1\" 200 -\n"
     ]
    },
    {
     "name": "stdout",
     "output_type": "stream",
     "text": [
      "inside post\n",
      "BODY:  {\"n\": 4, \"m\": 5, \"gates\": [[\"catnip_gate\", \"catnip_gate\", \"catnip_gate\", \"catnip_gate\", \"catnip_gate\"], [\"catnip_gate\", \"catnip_gate\", \"catnip_gate\", \"catnip_gate\", \"catnip_gate\"], [\"catnip_gate\", \"catnip_gate\", \"catnip_gate\", \"catnip_gate\", \"catnip_gate\"], [\"catnip_gate\", \"catnip_gate\", \"catnip_gate\", \"catnip_gate\", \"catnip_gate\"]], \"cats\": [\"asleep\", \"asleep\", \"asleep\", \"asleep\"], \"output\": [0, 0, 0, 0]}\n"
     ]
    },
    {
     "name": "stderr",
     "output_type": "stream",
     "text": [
      "127.0.0.1 - - [09/Jun/2023 20:51:03] \"POST / HTTP/1.1\" 200 -\n"
     ]
    },
    {
     "name": "stdout",
     "output_type": "stream",
     "text": [
      "Server stopped.\n"
     ]
    }
   ],
   "source": [
    "# Python 3 server example\n",
    "from http.server import BaseHTTPRequestHandler, HTTPServer\n",
    "import time\n",
    "\n",
    "import json\n",
    "\n",
    "hostName = \"localhost\"\n",
    "serverPort = 8082\n",
    "\n",
    "class MyServer(BaseHTTPRequestHandler):\n",
    "    def do_GET(self):\n",
    "        self.send_response(200)\n",
    "        self.send_header(\"Content-type\", \"text/html\")\n",
    "        self.end_headers()\n",
    "        self.wfile.write(bytes(json.dumps(a, ensure_ascii=False), 'utf-8'))\n",
    "    \n",
    "    def do_POST(self):\n",
    "        print('inside post')\n",
    "        content_len = int(self.headers.get('Content-Length'))\n",
    "        post_body = self.rfile.read(content_len)\n",
    "        content = json.loads(post_body)\n",
    "        print('BODY: ', content)\n",
    "        \n",
    "        self.send_response(200)\n",
    "        self.send_header('Content-type','text/html')\n",
    "        self.end_headers()\n",
    "\n",
    "        message = \"Hello, World! Here is a POST response\"\n",
    "        self.wfile.write(bytes(message, \"utf8\"))\n",
    "        \n",
    "if __name__ == \"__main__\":        \n",
    "    webServer = HTTPServer((hostName, serverPort), MyServer)\n",
    "    print(\"Server started http://%s:%s\" % (hostName, serverPort))\n",
    "\n",
    "    try:\n",
    "        webServer.serve_forever()\n",
    "    except KeyboardInterrupt:\n",
    "        pass\n",
    "\n",
    "    webServer.server_close()\n",
    "    print(\"Server stopped.\")"
   ]
  },
  {
   "cell_type": "code",
   "execution_count": null,
   "id": "37771a2a",
   "metadata": {},
   "outputs": [],
   "source": []
  }
 ],
 "metadata": {
  "kernelspec": {
   "display_name": "Python 3 (ipykernel)",
   "language": "python",
   "name": "python3"
  },
  "language_info": {
   "codemirror_mode": {
    "name": "ipython",
    "version": 3
   },
   "file_extension": ".py",
   "mimetype": "text/x-python",
   "name": "python",
   "nbconvert_exporter": "python",
   "pygments_lexer": "ipython3",
   "version": "3.9.7"
  }
 },
 "nbformat": 4,
 "nbformat_minor": 5
}
