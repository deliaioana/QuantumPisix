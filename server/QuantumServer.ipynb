{
 "cells": [
  {
   "cell_type": "code",
   "execution_count": 1,
   "id": "2844573c",
   "metadata": {},
   "outputs": [],
   "source": [
    "from qiskit import QuantumCircuit, QuantumRegister, ClassicalRegister, Aer, execute\n",
    "import pylatexenc\n",
    "\n",
    "\n",
    "def compute_response(content):\n",
    "    n = content['n']\n",
    "    m = content['m']\n",
    "    gates = content['gates']\n",
    "    input_states = content['cats']\n",
    "    output = content['output']\n",
    "    \n",
    "    circuit = Circuit(n, m, gates, input_states, output)\n",
    "    return circuit.run()\n",
    "    \n",
    "\n",
    "def place_quantum_gate(gate, qc, row):\n",
    "    \n",
    "    if gate == 'x':\n",
    "        qc.x(row)\n",
    "    elif gate == 'y':\n",
    "        qc.y(row)\n",
    "    elif gate == 'z':\n",
    "        qc.z(row)\n",
    "    elif gate == 'h':\n",
    "        qc.h(row)\n",
    "    elif gate == 'i':\n",
    "        qc.i(row)\n",
    "\n",
    "\n",
    "def place_controlled_quantum_gate(controlled_qubit, conditional_qubit, gate, qc):\n",
    "    print('controlled: ', controlled_qubit)\n",
    "    print('conditional: ', conditional_qubit)\n",
    "    \n",
    "    if gate == 'x':\n",
    "        qc.cx(controlled_qubit, conditional_qubit)\n",
    "    elif gate == 'y':\n",
    "        qc.cy((controlled_qubit, conditional_qubit))\n",
    "    elif gate == 'z':\n",
    "        qc.cz((controlled_qubit, conditional_qubit))\n",
    "    elif gate == 'h':\n",
    "        qc.ch((controlled_qubit, conditional_qubit))\n",
    "    elif gate == 'i':\n",
    "        qc.ci((controlled_qubit, conditional_qubit))\n",
    "\n",
    "        \n",
    "def prepare_input_state(qc, qr, input_string):\n",
    "    for i, bit in enumerate(input_string):\n",
    "        if bit == '1':\n",
    "            qc.x(qr[i])\n",
    "    return qc\n",
    "        \n",
    "\n",
    "def handle_results(qc, qr, cr):\n",
    "    qc.measure(qr, cr)\n",
    "\n",
    "    simulator = Aer.get_backend('qasm_simulator')\n",
    "    job = execute(qc, simulator, shots=1000)\n",
    "\n",
    "    result = job.result()\n",
    "    counts = result.get_counts(qc)\n",
    "\n",
    "    print(counts)\n",
    "\n",
    "    print(qc)\n",
    "    qc.draw('mpl')\n",
    "    \n",
    "    return json.dumps(counts)\n",
    "        \n",
    "\n",
    "class Circuit:\n",
    "    def __init__(self, n, m, gates_matrix, input_states, output_states):\n",
    "        self.n = n\n",
    "        self.m = m\n",
    "        self.gates_matrix = gates_matrix\n",
    "        self.input_states = input_states\n",
    "        self.output_states = output_states\n",
    "\n",
    "    def run(self):\n",
    "        qr = QuantumRegister(self.n)\n",
    "        cr = ClassicalRegister(self.n)\n",
    "        qc = QuantumCircuit(qr, cr)\n",
    "        \n",
    "        prepare_input_state(qc, qr, self.input_states)\n",
    "\n",
    "        for row in range(self.n):\n",
    "            for column in range(self.m):\n",
    "                gate_info = self.gates_matrix[row][column]\n",
    "                \n",
    "                if gate_info:\n",
    "                \n",
    "                    is_controlled, info = gate_info\n",
    "\n",
    "                    if is_controlled:\n",
    "                        controlled_qubit, conditional_qubit, gate = info\n",
    "                        place_controlled_quantum_gate(controlled_qubit, conditional_qubit, gate, qc)\n",
    "                    else:\n",
    "                        place_quantum_gate(info, qc, row)\n",
    "\n",
    "        return handle_results(qc, qr, cr)\n"
   ]
  },
  {
   "cell_type": "code",
   "execution_count": 2,
   "id": "f5d83893",
   "metadata": {
    "scrolled": true
   },
   "outputs": [
    {
     "name": "stdout",
     "output_type": "stream",
     "text": [
      "Server started http://localhost:8082\n",
      "Request with body:  {'n': 2, 'm': 2, 'gates': [[[False, 'x'], [True, [1, 1, 'x']]], [[False, 'x'], [False, 'x']]], 'cats': '11', 'output': [0, 0]}\n",
      "controlled:  1\n",
      "conditional:  1\n"
     ]
    },
    {
     "name": "stderr",
     "output_type": "stream",
     "text": [
      "127.0.0.1 - - [22/Jun/2023 17:49:15] \"POST / HTTP/1.1\" 200 -\n",
      "----------------------------------------\n",
      "Exception occurred during processing of request from ('127.0.0.1', 60137)\n",
      "Traceback (most recent call last):\n",
      "  File \"D:\\AnacondaPython\\lib\\socketserver.py\", line 316, in _handle_request_noblock\n",
      "    self.process_request(request, client_address)\n",
      "  File \"D:\\AnacondaPython\\lib\\socketserver.py\", line 347, in process_request\n",
      "    self.finish_request(request, client_address)\n",
      "  File \"D:\\AnacondaPython\\lib\\socketserver.py\", line 360, in finish_request\n",
      "    self.RequestHandlerClass(request, client_address, self)\n",
      "  File \"D:\\AnacondaPython\\lib\\socketserver.py\", line 747, in __init__\n",
      "    self.handle()\n",
      "  File \"D:\\AnacondaPython\\lib\\http\\server.py\", line 427, in handle\n",
      "    self.handle_one_request()\n",
      "  File \"D:\\AnacondaPython\\lib\\http\\server.py\", line 415, in handle_one_request\n",
      "    method()\n",
      "  File \"C:\\Users\\Delia\\AppData\\Local\\Temp/ipykernel_15428/3045681239.py\", line 29, in do_POST\n",
      "    message = compute_response(content_dict)\n",
      "  File \"C:\\Users\\Delia\\AppData\\Local\\Temp/ipykernel_15428/791337665.py\", line 13, in compute_response\n",
      "    return circuit.run()\n",
      "  File \"C:\\Users\\Delia\\AppData\\Local\\Temp/ipykernel_15428/791337665.py\", line 95, in run\n",
      "    place_controlled_quantum_gate(controlled_qubit, conditional_qubit, gate, qc)\n",
      "  File \"C:\\Users\\Delia\\AppData\\Local\\Temp/ipykernel_15428/791337665.py\", line 35, in place_controlled_quantum_gate\n",
      "    qc.cx(controlled_qubit, conditional_qubit)\n",
      "  File \"D:\\AnacondaPython\\lib\\site-packages\\qiskit\\circuit\\quantumcircuit.py\", line 3735, in cx\n",
      "    return self.append(\n",
      "  File \"D:\\AnacondaPython\\lib\\site-packages\\qiskit\\circuit\\quantumcircuit.py\", line 1231, in append\n",
      "    instructions.add(appender(instruction, qarg, carg), qarg, carg)\n",
      "  File \"D:\\AnacondaPython\\lib\\site-packages\\qiskit\\circuit\\quantumcircuit.py\", line 1266, in _append\n",
      "    self._check_dups(qargs)\n",
      "  File \"D:\\AnacondaPython\\lib\\site-packages\\qiskit\\circuit\\quantumcircuit.py\", line 1446, in _check_dups\n",
      "    raise CircuitError(\"duplicate qubit arguments\")\n",
      "qiskit.circuit.exceptions.CircuitError: 'duplicate qubit arguments'\n",
      "----------------------------------------\n"
     ]
    },
    {
     "name": "stdout",
     "output_type": "stream",
     "text": [
      "Request with body:  {'n': 2, 'm': 2, 'gates': [[[False, 'x'], [True, [1, 1, 'x']]], [[False, 'x'], [False, 'x']]], 'cats': '00', 'output': [2, 3]}\n",
      "controlled:  1\n",
      "conditional:  1\n"
     ]
    },
    {
     "name": "stderr",
     "output_type": "stream",
     "text": [
      "127.0.0.1 - - [22/Jun/2023 17:52:17] \"POST / HTTP/1.1\" 200 -\n",
      "----------------------------------------\n",
      "Exception occurred during processing of request from ('127.0.0.1', 60203)\n",
      "Traceback (most recent call last):\n",
      "  File \"D:\\AnacondaPython\\lib\\socketserver.py\", line 316, in _handle_request_noblock\n",
      "    self.process_request(request, client_address)\n",
      "  File \"D:\\AnacondaPython\\lib\\socketserver.py\", line 347, in process_request\n",
      "    self.finish_request(request, client_address)\n",
      "  File \"D:\\AnacondaPython\\lib\\socketserver.py\", line 360, in finish_request\n",
      "    self.RequestHandlerClass(request, client_address, self)\n",
      "  File \"D:\\AnacondaPython\\lib\\socketserver.py\", line 747, in __init__\n",
      "    self.handle()\n",
      "  File \"D:\\AnacondaPython\\lib\\http\\server.py\", line 427, in handle\n",
      "    self.handle_one_request()\n",
      "  File \"D:\\AnacondaPython\\lib\\http\\server.py\", line 415, in handle_one_request\n",
      "    method()\n",
      "  File \"C:\\Users\\Delia\\AppData\\Local\\Temp/ipykernel_15428/3045681239.py\", line 29, in do_POST\n",
      "    message = compute_response(content_dict)\n",
      "  File \"C:\\Users\\Delia\\AppData\\Local\\Temp/ipykernel_15428/791337665.py\", line 13, in compute_response\n",
      "    return circuit.run()\n",
      "  File \"C:\\Users\\Delia\\AppData\\Local\\Temp/ipykernel_15428/791337665.py\", line 95, in run\n",
      "    place_controlled_quantum_gate(controlled_qubit, conditional_qubit, gate, qc)\n",
      "  File \"C:\\Users\\Delia\\AppData\\Local\\Temp/ipykernel_15428/791337665.py\", line 35, in place_controlled_quantum_gate\n",
      "    qc.cx(controlled_qubit, conditional_qubit)\n",
      "  File \"D:\\AnacondaPython\\lib\\site-packages\\qiskit\\circuit\\quantumcircuit.py\", line 3735, in cx\n",
      "    return self.append(\n",
      "  File \"D:\\AnacondaPython\\lib\\site-packages\\qiskit\\circuit\\quantumcircuit.py\", line 1231, in append\n",
      "    instructions.add(appender(instruction, qarg, carg), qarg, carg)\n",
      "  File \"D:\\AnacondaPython\\lib\\site-packages\\qiskit\\circuit\\quantumcircuit.py\", line 1266, in _append\n",
      "    self._check_dups(qargs)\n",
      "  File \"D:\\AnacondaPython\\lib\\site-packages\\qiskit\\circuit\\quantumcircuit.py\", line 1446, in _check_dups\n",
      "    raise CircuitError(\"duplicate qubit arguments\")\n",
      "qiskit.circuit.exceptions.CircuitError: 'duplicate qubit arguments'\n",
      "----------------------------------------\n"
     ]
    },
    {
     "name": "stdout",
     "output_type": "stream",
     "text": [
      "Request with body:  {'n': 2, 'm': 2, 'gates': [[[True, [0, 1, 'x']], [False, 'x']], [[False, 'x'], [False, 'x']]], 'cats': '00', 'output': [2, 3]}\n",
      "controlled:  0\n",
      "conditional:  1\n"
     ]
    },
    {
     "name": "stderr",
     "output_type": "stream",
     "text": [
      "127.0.0.1 - - [22/Jun/2023 17:58:47] \"POST / HTTP/1.1\" 200 -\n"
     ]
    },
    {
     "name": "stdout",
     "output_type": "stream",
     "text": [
      "{'01': 1000}\n",
      "           ┌───┐     ┌─┐   \n",
      "q2_0: ──■──┤ X ├─────┤M├───\n",
      "      ┌─┴─┐├───┤┌───┐└╥┘┌─┐\n",
      "q2_1: ┤ X ├┤ X ├┤ X ├─╫─┤M├\n",
      "      └───┘└───┘└───┘ ║ └╥┘\n",
      "c2: 2/════════════════╩══╩═\n",
      "                      0  1 \n",
      "Request with body:  {'n': 2, 'm': 2, 'gates': [[[False, 'x'], [False, 'x']], [[True, [0, 0, 'x']], [False, 'x']]], 'cats': '00', 'output': [2, 3]}\n",
      "controlled:  0\n",
      "conditional:  0\n"
     ]
    },
    {
     "name": "stderr",
     "output_type": "stream",
     "text": [
      "127.0.0.1 - - [22/Jun/2023 17:59:21] \"POST / HTTP/1.1\" 200 -\n",
      "----------------------------------------\n",
      "Exception occurred during processing of request from ('127.0.0.1', 60362)\n",
      "Traceback (most recent call last):\n",
      "  File \"D:\\AnacondaPython\\lib\\socketserver.py\", line 316, in _handle_request_noblock\n",
      "    self.process_request(request, client_address)\n",
      "  File \"D:\\AnacondaPython\\lib\\socketserver.py\", line 347, in process_request\n",
      "    self.finish_request(request, client_address)\n",
      "  File \"D:\\AnacondaPython\\lib\\socketserver.py\", line 360, in finish_request\n",
      "    self.RequestHandlerClass(request, client_address, self)\n",
      "  File \"D:\\AnacondaPython\\lib\\socketserver.py\", line 747, in __init__\n",
      "    self.handle()\n",
      "  File \"D:\\AnacondaPython\\lib\\http\\server.py\", line 427, in handle\n",
      "    self.handle_one_request()\n",
      "  File \"D:\\AnacondaPython\\lib\\http\\server.py\", line 415, in handle_one_request\n",
      "    method()\n",
      "  File \"C:\\Users\\Delia\\AppData\\Local\\Temp/ipykernel_15428/3045681239.py\", line 29, in do_POST\n",
      "    message = compute_response(content_dict)\n",
      "  File \"C:\\Users\\Delia\\AppData\\Local\\Temp/ipykernel_15428/791337665.py\", line 13, in compute_response\n",
      "    return circuit.run()\n",
      "  File \"C:\\Users\\Delia\\AppData\\Local\\Temp/ipykernel_15428/791337665.py\", line 95, in run\n",
      "    place_controlled_quantum_gate(controlled_qubit, conditional_qubit, gate, qc)\n",
      "  File \"C:\\Users\\Delia\\AppData\\Local\\Temp/ipykernel_15428/791337665.py\", line 35, in place_controlled_quantum_gate\n",
      "    qc.cx(controlled_qubit, conditional_qubit)\n",
      "  File \"D:\\AnacondaPython\\lib\\site-packages\\qiskit\\circuit\\quantumcircuit.py\", line 3735, in cx\n",
      "    return self.append(\n",
      "  File \"D:\\AnacondaPython\\lib\\site-packages\\qiskit\\circuit\\quantumcircuit.py\", line 1231, in append\n",
      "    instructions.add(appender(instruction, qarg, carg), qarg, carg)\n",
      "  File \"D:\\AnacondaPython\\lib\\site-packages\\qiskit\\circuit\\quantumcircuit.py\", line 1266, in _append\n",
      "    self._check_dups(qargs)\n",
      "  File \"D:\\AnacondaPython\\lib\\site-packages\\qiskit\\circuit\\quantumcircuit.py\", line 1446, in _check_dups\n",
      "    raise CircuitError(\"duplicate qubit arguments\")\n",
      "qiskit.circuit.exceptions.CircuitError: 'duplicate qubit arguments'\n",
      "----------------------------------------\n"
     ]
    },
    {
     "name": "stdout",
     "output_type": "stream",
     "text": [
      "Request with body:  {'n': 2, 'm': 2, 'gates': [[[False, 'x'], [False, 'x']], [[True, [0, -1, 'x']], [False, 'x']]], 'cats': '00', 'output': [2, 3]}\n",
      "controlled:  0\n",
      "conditional:  -1\n",
      "{'10': 1000}\n",
      "       ┌───┐┌───┐          ┌─┐   \n",
      "q18_0: ┤ X ├┤ X ├──■───────┤M├───\n",
      "       └───┘└───┘┌─┴─┐┌───┐└╥┘┌─┐\n",
      "q18_1: ──────────┤ X ├┤ X ├─╫─┤M├\n",
      "                 └───┘└───┘ ║ └╥┘\n",
      " c4: 2/═════════════════════╩══╩═\n",
      "                            0  1 \n"
     ]
    },
    {
     "name": "stderr",
     "output_type": "stream",
     "text": [
      "127.0.0.1 - - [22/Jun/2023 18:06:06] \"POST / HTTP/1.1\" 200 -\n"
     ]
    },
    {
     "name": "stdout",
     "output_type": "stream",
     "text": [
      "Request with body:  {'n': 2, 'm': 2, 'gates': [[[False, 'x'], [False, 'x']], [[True, [0, 0, 'x']], [False, 'x']]], 'cats': '00', 'output': [2, 3]}\n",
      "controlled:  0\n",
      "conditional:  0\n"
     ]
    },
    {
     "name": "stderr",
     "output_type": "stream",
     "text": [
      "127.0.0.1 - - [22/Jun/2023 18:06:46] \"POST / HTTP/1.1\" 200 -\n",
      "----------------------------------------\n",
      "Exception occurred during processing of request from ('127.0.0.1', 60528)\n",
      "Traceback (most recent call last):\n",
      "  File \"D:\\AnacondaPython\\lib\\socketserver.py\", line 316, in _handle_request_noblock\n",
      "    self.process_request(request, client_address)\n",
      "  File \"D:\\AnacondaPython\\lib\\socketserver.py\", line 347, in process_request\n",
      "    self.finish_request(request, client_address)\n",
      "  File \"D:\\AnacondaPython\\lib\\socketserver.py\", line 360, in finish_request\n",
      "    self.RequestHandlerClass(request, client_address, self)\n",
      "  File \"D:\\AnacondaPython\\lib\\socketserver.py\", line 747, in __init__\n",
      "    self.handle()\n",
      "  File \"D:\\AnacondaPython\\lib\\http\\server.py\", line 427, in handle\n",
      "    self.handle_one_request()\n",
      "  File \"D:\\AnacondaPython\\lib\\http\\server.py\", line 415, in handle_one_request\n",
      "    method()\n",
      "  File \"C:\\Users\\Delia\\AppData\\Local\\Temp/ipykernel_15428/3045681239.py\", line 29, in do_POST\n",
      "    message = compute_response(content_dict)\n",
      "  File \"C:\\Users\\Delia\\AppData\\Local\\Temp/ipykernel_15428/791337665.py\", line 13, in compute_response\n",
      "    return circuit.run()\n",
      "  File \"C:\\Users\\Delia\\AppData\\Local\\Temp/ipykernel_15428/791337665.py\", line 95, in run\n",
      "    place_controlled_quantum_gate(controlled_qubit, conditional_qubit, gate, qc)\n",
      "  File \"C:\\Users\\Delia\\AppData\\Local\\Temp/ipykernel_15428/791337665.py\", line 35, in place_controlled_quantum_gate\n",
      "    qc.cx(controlled_qubit, conditional_qubit)\n",
      "  File \"D:\\AnacondaPython\\lib\\site-packages\\qiskit\\circuit\\quantumcircuit.py\", line 3735, in cx\n",
      "    return self.append(\n",
      "  File \"D:\\AnacondaPython\\lib\\site-packages\\qiskit\\circuit\\quantumcircuit.py\", line 1231, in append\n",
      "    instructions.add(appender(instruction, qarg, carg), qarg, carg)\n",
      "  File \"D:\\AnacondaPython\\lib\\site-packages\\qiskit\\circuit\\quantumcircuit.py\", line 1266, in _append\n",
      "    self._check_dups(qargs)\n",
      "  File \"D:\\AnacondaPython\\lib\\site-packages\\qiskit\\circuit\\quantumcircuit.py\", line 1446, in _check_dups\n",
      "    raise CircuitError(\"duplicate qubit arguments\")\n",
      "qiskit.circuit.exceptions.CircuitError: 'duplicate qubit arguments'\n",
      "----------------------------------------\n"
     ]
    },
    {
     "name": "stdout",
     "output_type": "stream",
     "text": [
      "Request with body:  {'n': 2, 'm': 2, 'gates': [[[False, 'x'], [False, 'x']], [[True, [0, 1, 'x']], [False, 'x']]], 'cats': '00', 'output': [2, 3]}\n",
      "controlled:  0\n",
      "conditional:  1\n",
      "{'10': 1000}\n",
      "       ┌───┐┌───┐          ┌─┐   \n",
      "q34_0: ┤ X ├┤ X ├──■───────┤M├───\n",
      "       └───┘└───┘┌─┴─┐┌───┐└╥┘┌─┐\n",
      "q34_1: ──────────┤ X ├┤ X ├─╫─┤M├\n",
      "                 └───┘└───┘ ║ └╥┘\n",
      " c6: 2/═════════════════════╩══╩═\n",
      "                            0  1 \n"
     ]
    },
    {
     "name": "stderr",
     "output_type": "stream",
     "text": [
      "127.0.0.1 - - [22/Jun/2023 18:07:43] \"POST / HTTP/1.1\" 200 -\n"
     ]
    },
    {
     "name": "stdout",
     "output_type": "stream",
     "text": [
      "Request with body:  {'n': 2, 'm': 2, 'gates': [[[True, [0, 2, 'x']], [False, 'x']], [[False, 'x'], [False, 'x']]], 'cats': '00', 'output': [2, 3]}\n",
      "controlled:  0\n",
      "conditional:  2\n"
     ]
    },
    {
     "name": "stderr",
     "output_type": "stream",
     "text": [
      "127.0.0.1 - - [22/Jun/2023 18:07:57] \"POST / HTTP/1.1\" 200 -\n",
      "----------------------------------------\n",
      "Exception occurred during processing of request from ('127.0.0.1', 60557)\n",
      "Traceback (most recent call last):\n",
      "  File \"D:\\AnacondaPython\\lib\\site-packages\\qiskit\\circuit\\quantumcircuit.py\", line 1084, in _bit_argument_conversion\n",
      "    ret = [in_array[bit_representation]]\n",
      "IndexError: list index out of range\n",
      "\n",
      "The above exception was the direct cause of the following exception:\n",
      "\n",
      "Traceback (most recent call last):\n",
      "  File \"D:\\AnacondaPython\\lib\\socketserver.py\", line 316, in _handle_request_noblock\n",
      "    self.process_request(request, client_address)\n",
      "  File \"D:\\AnacondaPython\\lib\\socketserver.py\", line 347, in process_request\n",
      "    self.finish_request(request, client_address)\n",
      "  File \"D:\\AnacondaPython\\lib\\socketserver.py\", line 360, in finish_request\n",
      "    self.RequestHandlerClass(request, client_address, self)\n",
      "  File \"D:\\AnacondaPython\\lib\\socketserver.py\", line 747, in __init__\n",
      "    self.handle()\n",
      "  File \"D:\\AnacondaPython\\lib\\http\\server.py\", line 427, in handle\n",
      "    self.handle_one_request()\n",
      "  File \"D:\\AnacondaPython\\lib\\http\\server.py\", line 415, in handle_one_request\n",
      "    method()\n",
      "  File \"C:\\Users\\Delia\\AppData\\Local\\Temp/ipykernel_15428/3045681239.py\", line 29, in do_POST\n",
      "    message = compute_response(content_dict)\n",
      "  File \"C:\\Users\\Delia\\AppData\\Local\\Temp/ipykernel_15428/791337665.py\", line 13, in compute_response\n",
      "    return circuit.run()\n",
      "  File \"C:\\Users\\Delia\\AppData\\Local\\Temp/ipykernel_15428/791337665.py\", line 95, in run\n",
      "    place_controlled_quantum_gate(controlled_qubit, conditional_qubit, gate, qc)\n",
      "  File \"C:\\Users\\Delia\\AppData\\Local\\Temp/ipykernel_15428/791337665.py\", line 35, in place_controlled_quantum_gate\n",
      "    qc.cx(controlled_qubit, conditional_qubit)\n",
      "  File \"D:\\AnacondaPython\\lib\\site-packages\\qiskit\\circuit\\quantumcircuit.py\", line 3735, in cx\n",
      "    return self.append(\n",
      "  File \"D:\\AnacondaPython\\lib\\site-packages\\qiskit\\circuit\\quantumcircuit.py\", line 1220, in append\n",
      "    expanded_qargs = [self.qbit_argument_conversion(qarg) for qarg in qargs or []]\n",
      "  File \"D:\\AnacondaPython\\lib\\site-packages\\qiskit\\circuit\\quantumcircuit.py\", line 1220, in <listcomp>\n",
      "    expanded_qargs = [self.qbit_argument_conversion(qarg) for qarg in qargs or []]\n",
      "  File \"D:\\AnacondaPython\\lib\\site-packages\\qiskit\\circuit\\quantumcircuit.py\", line 1124, in qbit_argument_conversion\n",
      "    return QuantumCircuit._bit_argument_conversion(qubit_representation, self.qubits)\n",
      "  File \"D:\\AnacondaPython\\lib\\site-packages\\qiskit\\circuit\\quantumcircuit.py\", line 1106, in _bit_argument_conversion\n",
      "    raise CircuitError(\"Index out of range.\") from ex\n",
      "qiskit.circuit.exceptions.CircuitError: 'Index out of range.'\n",
      "----------------------------------------\n"
     ]
    },
    {
     "name": "stdout",
     "output_type": "stream",
     "text": [
      "Request with body:  {'n': 2, 'm': 2, 'gates': [[[True, [0, 1, 'x']], [False, 'x']], [[False, 'x'], [False, 'x']]], 'cats': '00', 'output': [2, 3]}\n",
      "controlled:  0\n",
      "conditional:  1\n",
      "{'01': 1000}\n",
      "            ┌───┐     ┌─┐   \n",
      "q50_0: ──■──┤ X ├─────┤M├───\n",
      "       ┌─┴─┐├───┤┌───┐└╥┘┌─┐\n",
      "q50_1: ┤ X ├┤ X ├┤ X ├─╫─┤M├\n",
      "       └───┘└───┘└───┘ ║ └╥┘\n",
      " c8: 2/════════════════╩══╩═\n",
      "                       0  1 \n"
     ]
    },
    {
     "name": "stderr",
     "output_type": "stream",
     "text": [
      "127.0.0.1 - - [22/Jun/2023 18:14:47] \"POST / HTTP/1.1\" 200 -\n"
     ]
    },
    {
     "name": "stdout",
     "output_type": "stream",
     "text": [
      "Request with body:  {'n': 2, 'm': 2, 'gates': [[[False, 'x'], [False, 'x']], [[False, 'x'], [True, [1, 0, 'x']]]], 'cats': '00', 'output': [2, 3]}\n",
      "controlled:  1\n",
      "conditional:  0\n",
      "{'11': 1000}\n",
      "       ┌───┐┌───┐┌───┐┌─┐   \n",
      "q65_0: ┤ X ├┤ X ├┤ X ├┤M├───\n",
      "       ├───┤└───┘└─┬─┘└╥┘┌─┐\n",
      "q65_1: ┤ X ├───────■───╫─┤M├\n",
      "       └───┘           ║ └╥┘\n",
      " c9: 2/════════════════╩══╩═\n",
      "                       0  1 \n"
     ]
    },
    {
     "name": "stderr",
     "output_type": "stream",
     "text": [
      "127.0.0.1 - - [22/Jun/2023 18:15:06] \"POST / HTTP/1.1\" 200 -\n"
     ]
    },
    {
     "name": "stdout",
     "output_type": "stream",
     "text": [
      "Request with body:  {'n': 2, 'm': 2, 'gates': [[[False, 'x'], [False, 'x']], [[True, [0, 0, 'x']], [False, 'x']]], 'cats': '00', 'output': [2, 3]}\n",
      "controlled:  0\n",
      "conditional:  0\n"
     ]
    },
    {
     "name": "stderr",
     "output_type": "stream",
     "text": [
      "127.0.0.1 - - [22/Jun/2023 18:15:23] \"POST / HTTP/1.1\" 200 -\n",
      "----------------------------------------\n",
      "Exception occurred during processing of request from ('127.0.0.1', 60724)\n",
      "Traceback (most recent call last):\n",
      "  File \"D:\\AnacondaPython\\lib\\socketserver.py\", line 316, in _handle_request_noblock\n",
      "    self.process_request(request, client_address)\n",
      "  File \"D:\\AnacondaPython\\lib\\socketserver.py\", line 347, in process_request\n",
      "    self.finish_request(request, client_address)\n",
      "  File \"D:\\AnacondaPython\\lib\\socketserver.py\", line 360, in finish_request\n",
      "    self.RequestHandlerClass(request, client_address, self)\n",
      "  File \"D:\\AnacondaPython\\lib\\socketserver.py\", line 747, in __init__\n",
      "    self.handle()\n",
      "  File \"D:\\AnacondaPython\\lib\\http\\server.py\", line 427, in handle\n",
      "    self.handle_one_request()\n",
      "  File \"D:\\AnacondaPython\\lib\\http\\server.py\", line 415, in handle_one_request\n",
      "    method()\n",
      "  File \"C:\\Users\\Delia\\AppData\\Local\\Temp/ipykernel_15428/3045681239.py\", line 29, in do_POST\n",
      "    message = compute_response(content_dict)\n",
      "  File \"C:\\Users\\Delia\\AppData\\Local\\Temp/ipykernel_15428/791337665.py\", line 13, in compute_response\n",
      "    return circuit.run()\n",
      "  File \"C:\\Users\\Delia\\AppData\\Local\\Temp/ipykernel_15428/791337665.py\", line 95, in run\n",
      "    place_controlled_quantum_gate(controlled_qubit, conditional_qubit, gate, qc)\n",
      "  File \"C:\\Users\\Delia\\AppData\\Local\\Temp/ipykernel_15428/791337665.py\", line 35, in place_controlled_quantum_gate\n",
      "    qc.cx(controlled_qubit, conditional_qubit)\n",
      "  File \"D:\\AnacondaPython\\lib\\site-packages\\qiskit\\circuit\\quantumcircuit.py\", line 3735, in cx\n",
      "    return self.append(\n",
      "  File \"D:\\AnacondaPython\\lib\\site-packages\\qiskit\\circuit\\quantumcircuit.py\", line 1231, in append\n",
      "    instructions.add(appender(instruction, qarg, carg), qarg, carg)\n",
      "  File \"D:\\AnacondaPython\\lib\\site-packages\\qiskit\\circuit\\quantumcircuit.py\", line 1266, in _append\n",
      "    self._check_dups(qargs)\n",
      "  File \"D:\\AnacondaPython\\lib\\site-packages\\qiskit\\circuit\\quantumcircuit.py\", line 1446, in _check_dups\n",
      "    raise CircuitError(\"duplicate qubit arguments\")\n",
      "qiskit.circuit.exceptions.CircuitError: 'duplicate qubit arguments'\n",
      "----------------------------------------\n"
     ]
    },
    {
     "name": "stdout",
     "output_type": "stream",
     "text": [
      "Request with body:  {'n': 2, 'm': 2, 'gates': [[[False, 'x'], [True, [1, 1, 'x']]], [[False, 'x'], [False, 'x']]], 'cats': '00', 'output': [2, 3]}\n",
      "controlled:  1\n",
      "conditional:  1\n"
     ]
    },
    {
     "name": "stderr",
     "output_type": "stream",
     "text": [
      "127.0.0.1 - - [22/Jun/2023 18:15:50] \"POST / HTTP/1.1\" 200 -\n",
      "----------------------------------------\n",
      "Exception occurred during processing of request from ('127.0.0.1', 60736)\n",
      "Traceback (most recent call last):\n",
      "  File \"D:\\AnacondaPython\\lib\\socketserver.py\", line 316, in _handle_request_noblock\n",
      "    self.process_request(request, client_address)\n",
      "  File \"D:\\AnacondaPython\\lib\\socketserver.py\", line 347, in process_request\n",
      "    self.finish_request(request, client_address)\n",
      "  File \"D:\\AnacondaPython\\lib\\socketserver.py\", line 360, in finish_request\n",
      "    self.RequestHandlerClass(request, client_address, self)\n",
      "  File \"D:\\AnacondaPython\\lib\\socketserver.py\", line 747, in __init__\n",
      "    self.handle()\n",
      "  File \"D:\\AnacondaPython\\lib\\http\\server.py\", line 427, in handle\n",
      "    self.handle_one_request()\n",
      "  File \"D:\\AnacondaPython\\lib\\http\\server.py\", line 415, in handle_one_request\n",
      "    method()\n",
      "  File \"C:\\Users\\Delia\\AppData\\Local\\Temp/ipykernel_15428/3045681239.py\", line 29, in do_POST\n",
      "    message = compute_response(content_dict)\n",
      "  File \"C:\\Users\\Delia\\AppData\\Local\\Temp/ipykernel_15428/791337665.py\", line 13, in compute_response\n",
      "    return circuit.run()\n",
      "  File \"C:\\Users\\Delia\\AppData\\Local\\Temp/ipykernel_15428/791337665.py\", line 95, in run\n",
      "    place_controlled_quantum_gate(controlled_qubit, conditional_qubit, gate, qc)\n",
      "  File \"C:\\Users\\Delia\\AppData\\Local\\Temp/ipykernel_15428/791337665.py\", line 35, in place_controlled_quantum_gate\n",
      "    qc.cx(controlled_qubit, conditional_qubit)\n",
      "  File \"D:\\AnacondaPython\\lib\\site-packages\\qiskit\\circuit\\quantumcircuit.py\", line 3735, in cx\n",
      "    return self.append(\n",
      "  File \"D:\\AnacondaPython\\lib\\site-packages\\qiskit\\circuit\\quantumcircuit.py\", line 1231, in append\n",
      "    instructions.add(appender(instruction, qarg, carg), qarg, carg)\n",
      "  File \"D:\\AnacondaPython\\lib\\site-packages\\qiskit\\circuit\\quantumcircuit.py\", line 1266, in _append\n",
      "    self._check_dups(qargs)\n",
      "  File \"D:\\AnacondaPython\\lib\\site-packages\\qiskit\\circuit\\quantumcircuit.py\", line 1446, in _check_dups\n",
      "    raise CircuitError(\"duplicate qubit arguments\")\n",
      "qiskit.circuit.exceptions.CircuitError: 'duplicate qubit arguments'\n",
      "----------------------------------------\n"
     ]
    },
    {
     "name": "stdout",
     "output_type": "stream",
     "text": [
      "Request with body:  {'n': 4, 'm': 4, 'gates': [[[False, 'x'], [False, 'x'], [False, 'x'], [False, 'x']], [[False, 'x'], [False, 'x'], [False, 'x'], [False, 'x']], [[False, 'x'], [False, 'x'], [False, 'x'], [False, 'x']], [[False, 'x'], [False, 'x'], [True, [2, 0, 'h']], [False, 'x']]], 'cats': '0000', 'output': [2, 3, 3, 3]}\n",
      "controlled:  2\n",
      "conditional:  0\n"
     ]
    },
    {
     "name": "stderr",
     "output_type": "stream",
     "text": [
      "127.0.0.1 - - [22/Jun/2023 18:22:10] \"POST / HTTP/1.1\" 200 -\n",
      "----------------------------------------\n",
      "Exception occurred during processing of request from ('127.0.0.1', 60868)\n",
      "Traceback (most recent call last):\n",
      "  File \"D:\\AnacondaPython\\lib\\socketserver.py\", line 316, in _handle_request_noblock\n",
      "    self.process_request(request, client_address)\n",
      "  File \"D:\\AnacondaPython\\lib\\socketserver.py\", line 347, in process_request\n",
      "    self.finish_request(request, client_address)\n",
      "  File \"D:\\AnacondaPython\\lib\\socketserver.py\", line 360, in finish_request\n",
      "    self.RequestHandlerClass(request, client_address, self)\n",
      "  File \"D:\\AnacondaPython\\lib\\socketserver.py\", line 747, in __init__\n",
      "    self.handle()\n",
      "  File \"D:\\AnacondaPython\\lib\\http\\server.py\", line 427, in handle\n",
      "    self.handle_one_request()\n",
      "  File \"D:\\AnacondaPython\\lib\\http\\server.py\", line 415, in handle_one_request\n",
      "    method()\n",
      "  File \"C:\\Users\\Delia\\AppData\\Local\\Temp/ipykernel_15428/3045681239.py\", line 29, in do_POST\n",
      "    message = compute_response(content_dict)\n",
      "  File \"C:\\Users\\Delia\\AppData\\Local\\Temp/ipykernel_15428/791337665.py\", line 13, in compute_response\n",
      "    return circuit.run()\n",
      "  File \"C:\\Users\\Delia\\AppData\\Local\\Temp/ipykernel_15428/791337665.py\", line 95, in run\n",
      "    place_controlled_quantum_gate(controlled_qubit, conditional_qubit, gate, qc)\n",
      "  File \"C:\\Users\\Delia\\AppData\\Local\\Temp/ipykernel_15428/791337665.py\", line 41, in place_controlled_quantum_gate\n",
      "    qc.ch((controlled_qubit, conditional_qubit))\n",
      "TypeError: ch() missing 1 required positional argument: 'target_qubit'\n",
      "----------------------------------------\n"
     ]
    },
    {
     "name": "stdout",
     "output_type": "stream",
     "text": [
      "Request with body:  {'n': 4, 'm': 4, 'gates': [[[False, 'x'], [False, 'x'], [False, 'x'], [False, 'x']], [[False, 'x'], [False, 'x'], [False, 'x'], [False, 'x']], [[False, 'x'], [False, 'x'], [False, 'x'], [False, 'h']], [[False, 'x'], [False, 'x'], [False, 'h'], [True, [3, 0, 'h']]]], 'cats': '0000', 'output': [2, 3, 3, 3]}\n",
      "controlled:  3\n",
      "conditional:  0\n"
     ]
    },
    {
     "name": "stderr",
     "output_type": "stream",
     "text": [
      "127.0.0.1 - - [22/Jun/2023 18:25:42] \"POST / HTTP/1.1\" 200 -\n",
      "----------------------------------------\n",
      "Exception occurred during processing of request from ('127.0.0.1', 60944)\n",
      "Traceback (most recent call last):\n",
      "  File \"D:\\AnacondaPython\\lib\\socketserver.py\", line 316, in _handle_request_noblock\n",
      "    self.process_request(request, client_address)\n",
      "  File \"D:\\AnacondaPython\\lib\\socketserver.py\", line 347, in process_request\n",
      "    self.finish_request(request, client_address)\n",
      "  File \"D:\\AnacondaPython\\lib\\socketserver.py\", line 360, in finish_request\n",
      "    self.RequestHandlerClass(request, client_address, self)\n",
      "  File \"D:\\AnacondaPython\\lib\\socketserver.py\", line 747, in __init__\n",
      "    self.handle()\n",
      "  File \"D:\\AnacondaPython\\lib\\http\\server.py\", line 427, in handle\n",
      "    self.handle_one_request()\n",
      "  File \"D:\\AnacondaPython\\lib\\http\\server.py\", line 415, in handle_one_request\n",
      "    method()\n",
      "  File \"C:\\Users\\Delia\\AppData\\Local\\Temp/ipykernel_15428/3045681239.py\", line 29, in do_POST\n",
      "    message = compute_response(content_dict)\n",
      "  File \"C:\\Users\\Delia\\AppData\\Local\\Temp/ipykernel_15428/791337665.py\", line 13, in compute_response\n",
      "    return circuit.run()\n",
      "  File \"C:\\Users\\Delia\\AppData\\Local\\Temp/ipykernel_15428/791337665.py\", line 95, in run\n",
      "    place_controlled_quantum_gate(controlled_qubit, conditional_qubit, gate, qc)\n",
      "  File \"C:\\Users\\Delia\\AppData\\Local\\Temp/ipykernel_15428/791337665.py\", line 41, in place_controlled_quantum_gate\n",
      "    qc.ch((controlled_qubit, conditional_qubit))\n",
      "TypeError: ch() missing 1 required positional argument: 'target_qubit'\n",
      "----------------------------------------\n"
     ]
    },
    {
     "name": "stdout",
     "output_type": "stream",
     "text": [
      "Request with body:  {'n': 4, 'm': 4, 'gates': [[[False, 'x'], [False, 'x'], [False, 'x'], [False, 'x']], [[False, 'x'], [False, 'x'], [False, 'x'], [False, 'x']], [[False, 'x'], [False, 'x'], [False, 'x'], [False, 'h']], [[False, 'x'], [False, 'x'], [False, 'x'], [True, [3, 0, 'h']]]], 'cats': '0000', 'output': [2, 3, 3, 3]}\n",
      "controlled:  3\n",
      "conditional:  0\n"
     ]
    },
    {
     "name": "stderr",
     "output_type": "stream",
     "text": [
      "127.0.0.1 - - [22/Jun/2023 18:27:14] \"POST / HTTP/1.1\" 200 -\n",
      "----------------------------------------\n",
      "Exception occurred during processing of request from ('127.0.0.1', 60980)\n",
      "Traceback (most recent call last):\n",
      "  File \"D:\\AnacondaPython\\lib\\socketserver.py\", line 316, in _handle_request_noblock\n",
      "    self.process_request(request, client_address)\n",
      "  File \"D:\\AnacondaPython\\lib\\socketserver.py\", line 347, in process_request\n",
      "    self.finish_request(request, client_address)\n",
      "  File \"D:\\AnacondaPython\\lib\\socketserver.py\", line 360, in finish_request\n",
      "    self.RequestHandlerClass(request, client_address, self)\n",
      "  File \"D:\\AnacondaPython\\lib\\socketserver.py\", line 747, in __init__\n",
      "    self.handle()\n",
      "  File \"D:\\AnacondaPython\\lib\\http\\server.py\", line 427, in handle\n",
      "    self.handle_one_request()\n",
      "  File \"D:\\AnacondaPython\\lib\\http\\server.py\", line 415, in handle_one_request\n",
      "    method()\n",
      "  File \"C:\\Users\\Delia\\AppData\\Local\\Temp/ipykernel_15428/3045681239.py\", line 29, in do_POST\n",
      "    message = compute_response(content_dict)\n",
      "  File \"C:\\Users\\Delia\\AppData\\Local\\Temp/ipykernel_15428/791337665.py\", line 13, in compute_response\n",
      "    return circuit.run()\n",
      "  File \"C:\\Users\\Delia\\AppData\\Local\\Temp/ipykernel_15428/791337665.py\", line 95, in run\n",
      "    place_controlled_quantum_gate(controlled_qubit, conditional_qubit, gate, qc)\n",
      "  File \"C:\\Users\\Delia\\AppData\\Local\\Temp/ipykernel_15428/791337665.py\", line 41, in place_controlled_quantum_gate\n",
      "    qc.ch((controlled_qubit, conditional_qubit))\n",
      "TypeError: ch() missing 1 required positional argument: 'target_qubit'\n",
      "----------------------------------------\n"
     ]
    },
    {
     "name": "stdout",
     "output_type": "stream",
     "text": [
      "Request with body:  {'n': 2, 'm': 2, 'gates': [[[False, 'x'], [False, 'x']], [[False, 'x'], [False, 'x']]], 'cats': '00', 'output': [2, 3]}\n",
      "{'00': 1000}\n",
      "       ┌───┐┌───┐┌─┐   \n",
      "q85_0: ┤ X ├┤ X ├┤M├───\n",
      "       ├───┤├───┤└╥┘┌─┐\n",
      "q85_1: ┤ X ├┤ X ├─╫─┤M├\n",
      "       └───┘└───┘ ║ └╥┘\n",
      "c15: 2/═══════════╩══╩═\n",
      "                  0  1 \n"
     ]
    },
    {
     "name": "stderr",
     "output_type": "stream",
     "text": [
      "127.0.0.1 - - [22/Jun/2023 18:32:47] \"POST / HTTP/1.1\" 200 -\n"
     ]
    },
    {
     "name": "stdout",
     "output_type": "stream",
     "text": [
      "Request with body:  {'n': 2, 'm': 2, 'gates': [[[False, 'x'], [False, 'x']], [[True, [1, 0, 'x']], [False, 'x']]], 'cats': '00', 'output': [2, 3]}\n",
      "controlled:  1\n",
      "conditional:  0\n",
      "{'10': 1000}\n",
      "       ┌───┐┌───┐┌───┐     ┌─┐   \n",
      "q93_0: ┤ X ├┤ X ├┤ X ├─────┤M├───\n",
      "       └───┘└───┘└─┬─┘┌───┐└╥┘┌─┐\n",
      "q93_1: ────────────■──┤ X ├─╫─┤M├\n",
      "                      └───┘ ║ └╥┘\n",
      "c16: 2/═════════════════════╩══╩═\n",
      "                            0  1 \n"
     ]
    },
    {
     "name": "stderr",
     "output_type": "stream",
     "text": [
      "127.0.0.1 - - [22/Jun/2023 18:33:00] \"POST / HTTP/1.1\" 200 -\n"
     ]
    },
    {
     "name": "stdout",
     "output_type": "stream",
     "text": [
      "Request with body:  {'n': 2, 'm': 2, 'gates': [[[True, [0, 1, 'x']], [False, 'x']], [[False, 'x'], [False, 'x']]], 'cats': '00', 'output': [2, 3]}\n",
      "controlled:  0\n",
      "conditional:  1\n",
      "{'01': 1000}\n",
      "             ┌───┐     ┌─┐   \n",
      "q108_0: ──■──┤ X ├─────┤M├───\n",
      "        ┌─┴─┐├───┤┌───┐└╥┘┌─┐\n",
      "q108_1: ┤ X ├┤ X ├┤ X ├─╫─┤M├\n",
      "        └───┘└───┘└───┘ ║ └╥┘\n",
      " c17: 2/════════════════╩══╩═\n",
      "                        0  1 \n"
     ]
    },
    {
     "name": "stderr",
     "output_type": "stream",
     "text": [
      "127.0.0.1 - - [22/Jun/2023 18:33:15] \"POST / HTTP/1.1\" 200 -\n"
     ]
    },
    {
     "name": "stdout",
     "output_type": "stream",
     "text": [
      "Request with body:  {'n': 4, 'm': 4, 'gates': [[[False, 'x'], [False, 'x'], [False, 'x'], [False, 'x']], [[False, 'x'], [False, 'x'], [False, 'h'], [False, 'h']], [[False, 'x'], [False, 'x'], [False, 'x'], [False, 'h']], [[False, 'h'], [False, 'x'], [True, [3, 0, 'x']], [False, 'x']]], 'cats': '0000', 'output': [2, 3, 3, 3]}\n",
      "controlled:  3\n",
      "conditional:  0\n",
      "{'1000': 270, '0101': 244, '0001': 234, '1100': 252}\n",
      "        ┌───┐┌───┐┌───┐┌───┐┌───┐           ┌─┐   \n",
      "q123_0: ┤ X ├┤ X ├┤ X ├┤ X ├┤ X ├───────────┤M├───\n",
      "        ├───┤├───┤├───┤├───┤└─┬─┘┌─┐        └╥┘   \n",
      "q123_1: ┤ X ├┤ X ├┤ H ├┤ H ├──┼──┤M├─────────╫────\n",
      "        ├───┤├───┤├───┤├───┤  │  └╥┘┌─┐      ║    \n",
      "q123_2: ┤ X ├┤ X ├┤ X ├┤ H ├──┼───╫─┤M├──────╫────\n",
      "        ├───┤├───┤└───┘└───┘  │   ║ └╥┘┌───┐ ║ ┌─┐\n",
      "q123_3: ┤ H ├┤ X ├────────────■───╫──╫─┤ X ├─╫─┤M├\n",
      "        └───┘└───┘                ║  ║ └───┘ ║ └╥┘\n",
      " c18: 4/══════════════════════════╩══╩═══════╩══╩═\n",
      "                                  1  2       0  3 \n"
     ]
    },
    {
     "name": "stderr",
     "output_type": "stream",
     "text": [
      "127.0.0.1 - - [22/Jun/2023 18:33:45] \"POST / HTTP/1.1\" 200 -\n"
     ]
    },
    {
     "name": "stdout",
     "output_type": "stream",
     "text": [
      "Server stopped.\n"
     ]
    }
   ],
   "source": [
    "# Python 3 server example\n",
    "from http.server import BaseHTTPRequestHandler, HTTPServer\n",
    "import time\n",
    "\n",
    "import json\n",
    "\n",
    "hostName = \"localhost\"\n",
    "serverPort = 8082\n",
    "\n",
    "class MyServer(BaseHTTPRequestHandler):\n",
    "    def do_GET(self):\n",
    "        self.send_response(200)\n",
    "        self.send_header(\"Content-type\", \"text/html\")\n",
    "        self.end_headers()\n",
    "        self.wfile.write(bytes(json.dumps(a, ensure_ascii=False), 'utf-8'))\n",
    "    \n",
    "    def do_POST(self):\n",
    "        content_len = int(self.headers.get('Content-Length'))\n",
    "        post_body = self.rfile.read(content_len)\n",
    "        \n",
    "        content = json.loads(post_body)\n",
    "        content_dict = json.loads(content)\n",
    "        print('Request with body: ', content_dict)\n",
    "        \n",
    "        self.send_response(200)\n",
    "        self.send_header('Content-type','text/html')\n",
    "        self.end_headers()\n",
    "\n",
    "        message = compute_response(content_dict)\n",
    "        self.wfile.write(bytes(message, \"utf8\"))\n",
    "        \n",
    "if __name__ == \"__main__\":        \n",
    "    webServer = HTTPServer((hostName, serverPort), MyServer)\n",
    "    print(\"Server started http://%s:%s\" % (hostName, serverPort))\n",
    "\n",
    "    try:\n",
    "        webServer.serve_forever()\n",
    "    except KeyboardInterrupt:\n",
    "        pass\n",
    "\n",
    "    webServer.server_close()\n",
    "    print(\"Server stopped.\")"
   ]
  },
  {
   "cell_type": "code",
   "execution_count": null,
   "id": "dda5d36a",
   "metadata": {},
   "outputs": [],
   "source": []
  }
 ],
 "metadata": {
  "kernelspec": {
   "display_name": "Python 3 (ipykernel)",
   "language": "python",
   "name": "python3"
  },
  "language_info": {
   "codemirror_mode": {
    "name": "ipython",
    "version": 3
   },
   "file_extension": ".py",
   "mimetype": "text/x-python",
   "name": "python",
   "nbconvert_exporter": "python",
   "pygments_lexer": "ipython3",
   "version": "3.9.7"
  }
 },
 "nbformat": 4,
 "nbformat_minor": 5
}
