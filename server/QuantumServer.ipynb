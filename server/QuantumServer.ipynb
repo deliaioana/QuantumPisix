{
 "cells": [
  {
   "cell_type": "code",
   "execution_count": 1,
   "id": "2844573c",
   "metadata": {},
   "outputs": [],
   "source": [
    "from qiskit import QuantumCircuit, QuantumRegister, ClassicalRegister, Aer, execute\n",
    "import pylatexenc\n",
    "\n",
    "\n",
    "def compute_response(content):\n",
    "    n = content['n']\n",
    "    m = content['m']\n",
    "    gates = content['gates']\n",
    "    input_states = content['cats']\n",
    "    output = content['output']\n",
    "    \n",
    "    circuit = Circuit(n, m, gates, input_states, output)\n",
    "    return circuit.run()\n",
    "    \n",
    "\n",
    "def place_quantum_gate(gate, qc, row):\n",
    "    \n",
    "    if gate == 'x':\n",
    "        qc.x(row)\n",
    "    elif gate == 'y':\n",
    "        qc.y(row)\n",
    "    elif gate == 'z':\n",
    "        qc.z(row)\n",
    "    elif gate == 'h':\n",
    "        qc.h(row)\n",
    "    elif gate == 'i':\n",
    "        qc.i(row)\n",
    "\n",
    "\n",
    "def place_controlled_quantum_gate(controlled_qubit, conditional_qubit, gate, qc):\n",
    "    print('controlled: ', controlled_qubit)\n",
    "    print('conditional: ', conditional_qubit)\n",
    "    \n",
    "    if gate == 'x':\n",
    "        qc.cx(conditional_qubit, controlled_qubit)\n",
    "    elif gate == 'y':\n",
    "        qc.cy(conditional_qubit, controlled_qubit)\n",
    "    elif gate == 'z':\n",
    "        qc.cz(conditional_qubit, controlled_qubit)\n",
    "    elif gate == 'h':\n",
    "        qc.ch(conditional_qubit, controlled_qubit)\n",
    "    elif gate == 'i':\n",
    "        qc.ci(conditional_qubit, controlled_qubit)\n",
    "\n",
    "        \n",
    "def prepare_input_state(qc, qr, input_string):\n",
    "    for i, bit in enumerate(input_string):\n",
    "        if bit == '1':\n",
    "            qc.x(qr[i])\n",
    "    return qc\n",
    "        \n",
    "\n",
    "def handle_results(qc, qr, cr):\n",
    "    qc.measure(qr, cr)\n",
    "\n",
    "    simulator = Aer.get_backend('qasm_simulator')\n",
    "    job = execute(qc, simulator, shots=1000)\n",
    "\n",
    "    result = job.result()\n",
    "    counts = result.get_counts(qc)\n",
    "\n",
    "    print(counts)\n",
    "\n",
    "    print(qc)\n",
    "    qc.draw('mpl')\n",
    "    \n",
    "    return json.dumps(counts)\n",
    "        \n",
    "\n",
    "class Circuit:\n",
    "    def __init__(self, n, m, gates_matrix, input_states, output_states):\n",
    "        self.n = n\n",
    "        self.m = m\n",
    "        self.gates_matrix = gates_matrix\n",
    "        self.input_states = input_states\n",
    "        self.output_states = output_states\n",
    "\n",
    "    def run(self):\n",
    "        qr = QuantumRegister(self.n)\n",
    "        cr = ClassicalRegister(self.n)\n",
    "        qc = QuantumCircuit(qr, cr)\n",
    "        \n",
    "        prepare_input_state(qc, qr, self.input_states)\n",
    "\n",
    "        for column in range(self.m):\n",
    "            placed_gates = []\n",
    "            column_gates = [row[column] for row in self.gates_matrix]\n",
    "            controlled_gates = [gate_info for gate_info in column_gates if gate_info[0] == True]\n",
    "            print(controlled_gates)\n",
    "            \n",
    "            for gate_info in controlled_gates:\n",
    "                is_controlled, info = gate_info\n",
    "\n",
    "                controlled_qubit, conditional_qubit, gate = info\n",
    "                place_controlled_quantum_gate(controlled_qubit, conditional_qubit, gate, qc)\n",
    "                placed_gates.append(controlled_qubit)\n",
    "                placed_gates.append(conditional_qubit)\n",
    "            \n",
    "            for row in range(self.n):\n",
    "                gate_info = self.gates_matrix[row][column]\n",
    "                \n",
    "                if gate_info:\n",
    "                \n",
    "                    is_controlled, info = gate_info\n",
    "\n",
    "                    if not is_controlled:\n",
    "                        if row not in placed_gates:\n",
    "                            place_quantum_gate(info, qc, row)\n",
    "\n",
    "        return handle_results(qc, qr, cr)\n"
   ]
  },
  {
   "cell_type": "code",
   "execution_count": null,
   "id": "f5d83893",
   "metadata": {
    "scrolled": true
   },
   "outputs": [
    {
     "name": "stdout",
     "output_type": "stream",
     "text": [
      "Server started http://localhost:8082\n",
      "Request with body:  {'n': 2, 'm': 2, 'gates': [[[True, [0, 1, 'x']], [False, 'i']], [[False, 'i'], [True, [1, 0, 'x']]]], 'cats': '11', 'output': [0, 0]}\n",
      "[[True, [0, 1, 'x']]]\n",
      "controlled:  0\n",
      "conditional:  1\n",
      "[[True, [1, 0, 'x']]]\n",
      "controlled:  1\n",
      "conditional:  0\n"
     ]
    },
    {
     "name": "stderr",
     "output_type": "stream",
     "text": [
      "127.0.0.1 - - [30/Jun/2023 20:54:23] \"POST / HTTP/1.1\" 200 -\n"
     ]
    },
    {
     "name": "stdout",
     "output_type": "stream",
     "text": [
      "{'10': 1000}\n",
      "      ┌───┐┌───┐     ┌─┐   \n",
      "q0_0: ┤ X ├┤ X ├──■──┤M├───\n",
      "      ├───┤└─┬─┘┌─┴─┐└╥┘┌─┐\n",
      "q0_1: ┤ X ├──■──┤ X ├─╫─┤M├\n",
      "      └───┘     └───┘ ║ └╥┘\n",
      "c0: 2/════════════════╩══╩═\n",
      "                      0  1 \n",
      "Request with body:  {'n': 2, 'm': 2, 'gates': [[[False, 'i'], [True, [0, 1, 'x']]], [[True, [1, 0, 'x']], [False, 'i']]], 'cats': '11', 'output': [0, 0]}\n",
      "[[True, [1, 0, 'x']]]\n",
      "controlled:  1\n",
      "conditional:  0\n",
      "[[True, [0, 1, 'x']]]\n",
      "controlled:  0\n",
      "conditional:  1\n",
      "{'01': 1000}\n",
      "       ┌───┐     ┌───┐┌─┐   \n",
      "q12_0: ┤ X ├──■──┤ X ├┤M├───\n",
      "       ├───┤┌─┴─┐└─┬─┘└╥┘┌─┐\n",
      "q12_1: ┤ X ├┤ X ├──■───╫─┤M├\n",
      "       └───┘└───┘      ║ └╥┘\n",
      " c1: 2/════════════════╩══╩═\n",
      "                       0  1 \n"
     ]
    },
    {
     "name": "stderr",
     "output_type": "stream",
     "text": [
      "127.0.0.1 - - [30/Jun/2023 20:54:56] \"POST / HTTP/1.1\" 200 -\n"
     ]
    },
    {
     "name": "stdout",
     "output_type": "stream",
     "text": [
      "Request with body:  {'n': 1, 'm': 1, 'gates': [[[False, 'i']]], 'cats': '1', 'output': [1]}\n",
      "[]\n",
      "{'1': 1000}\n",
      "      ┌───┐┌───┐┌─┐\n",
      " q24: ┤ X ├┤ I ├┤M├\n",
      "      └───┘└───┘└╥┘\n",
      "c2: 1/═══════════╩═\n",
      "                 0 \n"
     ]
    },
    {
     "name": "stderr",
     "output_type": "stream",
     "text": [
      "127.0.0.1 - - [30/Jun/2023 20:56:03] \"POST / HTTP/1.1\" 200 -\n"
     ]
    },
    {
     "name": "stdout",
     "output_type": "stream",
     "text": [
      "Request with body:  {'n': 1, 'm': 1, 'gates': [[[False, 'i']]], 'cats': '1', 'output': [1]}\n",
      "[]\n",
      "{'1': 1000}\n",
      "      ┌───┐┌───┐┌─┐\n",
      " q36: ┤ X ├┤ I ├┤M├\n",
      "      └───┘└───┘└╥┘\n",
      "c3: 1/═══════════╩═\n",
      "                 0 \n"
     ]
    },
    {
     "name": "stderr",
     "output_type": "stream",
     "text": [
      "127.0.0.1 - - [30/Jun/2023 20:56:58] \"POST / HTTP/1.1\" 200 -\n"
     ]
    },
    {
     "name": "stdout",
     "output_type": "stream",
     "text": [
      "Request with body:  {'n': 1, 'm': 1, 'gates': [[[False, 'i']]], 'cats': '1', 'output': [1]}\n",
      "[]\n",
      "{'1': 1000}\n",
      "      ┌───┐┌───┐┌─┐\n",
      " q48: ┤ X ├┤ I ├┤M├\n",
      "      └───┘└───┘└╥┘\n",
      "c4: 1/═══════════╩═\n",
      "                 0 \n"
     ]
    },
    {
     "name": "stderr",
     "output_type": "stream",
     "text": [
      "127.0.0.1 - - [30/Jun/2023 20:57:15] \"POST / HTTP/1.1\" 200 -\n"
     ]
    },
    {
     "name": "stdout",
     "output_type": "stream",
     "text": [
      "Request with body:  {'n': 1, 'm': 1, 'gates': [[[False, 'i']]], 'cats': '1', 'output': [1]}\n",
      "[]\n",
      "{'1': 1000}\n",
      "      ┌───┐┌───┐┌─┐\n",
      " q60: ┤ X ├┤ I ├┤M├\n",
      "      └───┘└───┘└╥┘\n",
      "c5: 1/═══════════╩═\n",
      "                 0 \n"
     ]
    },
    {
     "name": "stderr",
     "output_type": "stream",
     "text": [
      "127.0.0.1 - - [30/Jun/2023 20:57:44] \"POST / HTTP/1.1\" 200 -\n"
     ]
    },
    {
     "name": "stdout",
     "output_type": "stream",
     "text": [
      "Request with body:  {'n': 1, 'm': 1, 'gates': [[[False, 'i']]], 'cats': '1', 'output': [1]}\n",
      "[]\n",
      "{'1': 1000}\n",
      "      ┌───┐┌───┐┌─┐\n",
      " q72: ┤ X ├┤ I ├┤M├\n",
      "      └───┘└───┘└╥┘\n",
      "c6: 1/═══════════╩═\n",
      "                 0 \n"
     ]
    },
    {
     "name": "stderr",
     "output_type": "stream",
     "text": [
      "127.0.0.1 - - [30/Jun/2023 20:58:02] \"POST / HTTP/1.1\" 200 -\n"
     ]
    },
    {
     "name": "stdout",
     "output_type": "stream",
     "text": [
      "Request with body:  {'n': 1, 'm': 1, 'gates': [[[False, 'i']]], 'cats': '1', 'output': [1]}\n",
      "[]\n",
      "{'1': 1000}\n",
      "      ┌───┐┌───┐┌─┐\n",
      " q84: ┤ X ├┤ I ├┤M├\n",
      "      └───┘└───┘└╥┘\n",
      "c7: 1/═══════════╩═\n",
      "                 0 \n"
     ]
    },
    {
     "name": "stderr",
     "output_type": "stream",
     "text": [
      "127.0.0.1 - - [30/Jun/2023 20:59:08] \"POST / HTTP/1.1\" 200 -\n"
     ]
    },
    {
     "name": "stdout",
     "output_type": "stream",
     "text": [
      "Request with body:  {'n': 2, 'm': 4, 'gates': [[[False, 'x'], [False, 'x'], [False, 'i'], [False, 'i']], [[False, 'i'], [False, 'i'], [False, 'i'], [False, 'i']]], 'cats': '10', 'output': [1, 0]}\n",
      "[]\n",
      "[]\n",
      "[]\n",
      "[]\n",
      "{'01': 1000}\n",
      "       ┌───┐┌───┐┌───┐┌───┐┌───┐┌─┐\n",
      "q96_0: ┤ X ├┤ X ├┤ X ├┤ I ├┤ I ├┤M├\n",
      "       ├───┤├───┤├───┤├───┤└┬─┬┘└╥┘\n",
      "q96_1: ┤ I ├┤ I ├┤ I ├┤ I ├─┤M├──╫─\n",
      "       └───┘└───┘└───┘└───┘ └╥┘  ║ \n",
      " c8: 2/══════════════════════╩═══╩═\n",
      "                             1   0 \n"
     ]
    },
    {
     "name": "stderr",
     "output_type": "stream",
     "text": [
      "127.0.0.1 - - [30/Jun/2023 21:00:19] \"POST / HTTP/1.1\" 200 -\n"
     ]
    },
    {
     "name": "stdout",
     "output_type": "stream",
     "text": [
      "Request with body:  {'n': 1, 'm': 1, 'gates': [[[False, 'i']]], 'cats': '1', 'output': [1]}\n",
      "[]\n",
      "{'1': 1000}\n",
      "      ┌───┐┌───┐┌─┐\n",
      "q108: ┤ X ├┤ I ├┤M├\n",
      "      └───┘└───┘└╥┘\n",
      "c9: 1/═══════════╩═\n",
      "                 0 \n"
     ]
    },
    {
     "name": "stderr",
     "output_type": "stream",
     "text": [
      "127.0.0.1 - - [30/Jun/2023 21:02:56] \"POST / HTTP/1.1\" 200 -\n"
     ]
    },
    {
     "name": "stdout",
     "output_type": "stream",
     "text": [
      "Request with body:  {'n': 1, 'm': 1, 'gates': [[[False, 'i']]], 'cats': '0', 'output': [0]}\n",
      "[]\n",
      "{'0': 1000}\n",
      "       ┌───┐┌─┐\n",
      " q120: ┤ I ├┤M├\n",
      "       └───┘└╥┘\n",
      "c10: 1/══════╩═\n",
      "             0 \n"
     ]
    },
    {
     "name": "stderr",
     "output_type": "stream",
     "text": [
      "127.0.0.1 - - [30/Jun/2023 21:03:08] \"POST / HTTP/1.1\" 200 -\n"
     ]
    },
    {
     "name": "stdout",
     "output_type": "stream",
     "text": [
      "Request with body:  {'n': 1, 'm': 1, 'gates': [[[False, 'i']]], 'cats': '1', 'output': [1]}\n",
      "[]\n",
      "{'1': 1000}\n",
      "       ┌───┐┌───┐┌─┐\n",
      " q128: ┤ X ├┤ I ├┤M├\n",
      "       └───┘└───┘└╥┘\n",
      "c11: 1/═══════════╩═\n",
      "                  0 \n"
     ]
    },
    {
     "name": "stderr",
     "output_type": "stream",
     "text": [
      "127.0.0.1 - - [30/Jun/2023 21:03:30] \"POST / HTTP/1.1\" 200 -\n"
     ]
    },
    {
     "name": "stdout",
     "output_type": "stream",
     "text": [
      "Request with body:  {'n': 1, 'm': 1, 'gates': [[[False, 'i']]], 'cats': '1', 'output': [1]}\n",
      "[]\n",
      "{'1': 1000}\n",
      "       ┌───┐┌───┐┌─┐\n",
      " q140: ┤ X ├┤ I ├┤M├\n",
      "       └───┘└───┘└╥┘\n",
      "c12: 1/═══════════╩═\n",
      "                  0 \n"
     ]
    },
    {
     "name": "stderr",
     "output_type": "stream",
     "text": [
      "127.0.0.1 - - [30/Jun/2023 21:03:44] \"POST / HTTP/1.1\" 200 -\n"
     ]
    },
    {
     "name": "stdout",
     "output_type": "stream",
     "text": [
      "Request with body:  {'n': 1, 'm': 1, 'gates': [[[False, 'i']]], 'cats': '1', 'output': [1]}\n",
      "[]\n",
      "{'1': 1000}\n",
      "       ┌───┐┌───┐┌─┐\n",
      " q152: ┤ X ├┤ I ├┤M├\n",
      "       └───┘└───┘└╥┘\n",
      "c13: 1/═══════════╩═\n",
      "                  0 \n"
     ]
    },
    {
     "name": "stderr",
     "output_type": "stream",
     "text": [
      "127.0.0.1 - - [30/Jun/2023 21:04:02] \"POST / HTTP/1.1\" 200 -\n"
     ]
    },
    {
     "name": "stdout",
     "output_type": "stream",
     "text": [
      "Request with body:  {'n': 1, 'm': 1, 'gates': [[[False, 'x']]], 'cats': '0', 'output': [0]}\n",
      "[]\n",
      "{'1': 1000}\n",
      "       ┌───┐┌─┐\n",
      " q164: ┤ X ├┤M├\n",
      "       └───┘└╥┘\n",
      "c14: 1/══════╩═\n",
      "             0 \n"
     ]
    },
    {
     "name": "stderr",
     "output_type": "stream",
     "text": [
      "127.0.0.1 - - [30/Jun/2023 21:04:13] \"POST / HTTP/1.1\" 200 -\n"
     ]
    },
    {
     "name": "stdout",
     "output_type": "stream",
     "text": [
      "Request with body:  {'n': 1, 'm': 1, 'gates': [[[False, 'i']]], 'cats': '0', 'output': [0]}\n",
      "[]\n",
      "{'0': 1000}\n",
      "       ┌───┐┌─┐\n",
      " q173: ┤ I ├┤M├\n",
      "       └───┘└╥┘\n",
      "c15: 1/══════╩═\n",
      "             0 \n"
     ]
    },
    {
     "name": "stderr",
     "output_type": "stream",
     "text": [
      "127.0.0.1 - - [30/Jun/2023 21:04:23] \"POST / HTTP/1.1\" 200 -\n"
     ]
    },
    {
     "name": "stdout",
     "output_type": "stream",
     "text": [
      "Request with body:  {'n': 1, 'm': 1, 'gates': [[[False, 'x']]], 'cats': '1', 'output': [0]}\n",
      "[]\n",
      "{'0': 1000}\n",
      "       ┌───┐┌───┐┌─┐\n",
      " q181: ┤ X ├┤ X ├┤M├\n",
      "       └───┘└───┘└╥┘\n",
      "c16: 1/═══════════╩═\n",
      "                  0 \n"
     ]
    },
    {
     "name": "stderr",
     "output_type": "stream",
     "text": [
      "127.0.0.1 - - [30/Jun/2023 21:04:35] \"POST / HTTP/1.1\" 200 -\n"
     ]
    },
    {
     "name": "stdout",
     "output_type": "stream",
     "text": [
      "Request with body:  {'n': 1, 'm': 1, 'gates': [[[False, 'x']]], 'cats': '0', 'output': [1]}\n",
      "[]\n",
      "{'1': 1000}\n",
      "       ┌───┐┌─┐\n",
      " q189: ┤ X ├┤M├\n",
      "       └───┘└╥┘\n",
      "c17: 1/══════╩═\n",
      "             0 \n"
     ]
    },
    {
     "name": "stderr",
     "output_type": "stream",
     "text": [
      "127.0.0.1 - - [30/Jun/2023 21:05:00] \"POST / HTTP/1.1\" 200 -\n"
     ]
    },
    {
     "name": "stdout",
     "output_type": "stream",
     "text": [
      "Request with body:  {'n': 2, 'm': 4, 'gates': [[[False, 'x'], [False, 'x'], [False, 'x'], [False, 'x']], [[False, 'i'], [False, 'i'], [False, 'i'], [False, 'i']]], 'cats': '10', 'output': [1, 0]}\n",
      "[]\n",
      "[]\n",
      "[]\n",
      "[]\n",
      "{'01': 1000}\n",
      "        ┌───┐┌───┐┌───┐┌───┐┌───┐┌─┐\n",
      "q198_0: ┤ X ├┤ X ├┤ X ├┤ X ├┤ X ├┤M├\n",
      "        ├───┤├───┤├───┤├───┤└┬─┬┘└╥┘\n",
      "q198_1: ┤ I ├┤ I ├┤ I ├┤ I ├─┤M├──╫─\n",
      "        └───┘└───┘└───┘└───┘ └╥┘  ║ \n",
      " c18: 2/══════════════════════╩═══╩═\n",
      "                              1   0 \n"
     ]
    },
    {
     "name": "stderr",
     "output_type": "stream",
     "text": [
      "127.0.0.1 - - [30/Jun/2023 21:05:19] \"POST / HTTP/1.1\" 200 -\n"
     ]
    },
    {
     "name": "stdout",
     "output_type": "stream",
     "text": [
      "Request with body:  {'n': 1, 'm': 1, 'gates': [[[False, 'h']]], 'cats': '1', 'output': [2]}\n",
      "[]\n",
      "{'1': 489, '0': 511}\n",
      "       ┌───┐┌───┐┌─┐\n",
      " q210: ┤ X ├┤ H ├┤M├\n",
      "       └───┘└───┘└╥┘\n",
      "c19: 1/═══════════╩═\n",
      "                  0 \n"
     ]
    },
    {
     "name": "stderr",
     "output_type": "stream",
     "text": [
      "127.0.0.1 - - [30/Jun/2023 21:05:36] \"POST / HTTP/1.1\" 200 -\n"
     ]
    },
    {
     "name": "stdout",
     "output_type": "stream",
     "text": [
      "Request with body:  {'n': 1, 'm': 1, 'gates': [[[False, 'h']]], 'cats': '0', 'output': [2]}\n",
      "[]\n",
      "{'1': 489, '0': 511}\n",
      "       ┌───┐┌─┐\n",
      " q222: ┤ H ├┤M├\n",
      "       └───┘└╥┘\n",
      "c20: 1/══════╩═\n",
      "             0 \n"
     ]
    },
    {
     "name": "stderr",
     "output_type": "stream",
     "text": [
      "127.0.0.1 - - [30/Jun/2023 21:05:49] \"POST / HTTP/1.1\" 200 -\n"
     ]
    },
    {
     "name": "stdout",
     "output_type": "stream",
     "text": [
      "Request with body:  {'n': 1, 'm': 1, 'gates': [[[False, 'z']]], 'cats': '0', 'output': [0]}\n",
      "[]\n",
      "{'0': 1000}\n",
      "       ┌───┐┌─┐\n",
      " q231: ┤ Z ├┤M├\n",
      "       └───┘└╥┘\n",
      "c21: 1/══════╩═\n",
      "             0 \n"
     ]
    },
    {
     "name": "stderr",
     "output_type": "stream",
     "text": [
      "127.0.0.1 - - [30/Jun/2023 21:06:01] \"POST / HTTP/1.1\" 200 -\n"
     ]
    },
    {
     "name": "stdout",
     "output_type": "stream",
     "text": [
      "Request with body:  {'n': 1, 'm': 1, 'gates': [[[False, 'z']]], 'cats': '1', 'output': [1]}\n",
      "[]\n",
      "{'1': 1000}\n",
      "       ┌───┐┌───┐┌─┐\n",
      " q240: ┤ X ├┤ Z ├┤M├\n",
      "       └───┘└───┘└╥┘\n",
      "c22: 1/═══════════╩═\n",
      "                  0 \n"
     ]
    },
    {
     "name": "stderr",
     "output_type": "stream",
     "text": [
      "127.0.0.1 - - [30/Jun/2023 21:06:11] \"POST / HTTP/1.1\" 200 -\n"
     ]
    },
    {
     "name": "stdout",
     "output_type": "stream",
     "text": [
      "Request with body:  {'n': 1, 'm': 1, 'gates': [[[False, 'y']]], 'cats': '0', 'output': [1]}\n",
      "[]\n",
      "{'1': 1000}\n",
      "       ┌───┐┌─┐\n",
      " q252: ┤ Y ├┤M├\n",
      "       └───┘└╥┘\n",
      "c23: 1/══════╩═\n",
      "             0 \n"
     ]
    },
    {
     "name": "stderr",
     "output_type": "stream",
     "text": [
      "127.0.0.1 - - [30/Jun/2023 21:06:23] \"POST / HTTP/1.1\" 200 -\n"
     ]
    },
    {
     "name": "stdout",
     "output_type": "stream",
     "text": [
      "Request with body:  {'n': 1, 'm': 1, 'gates': [[[False, 'y']]], 'cats': '1', 'output': [0]}\n",
      "[]\n",
      "{'0': 1000}\n",
      "       ┌───┐┌───┐┌─┐\n",
      " q261: ┤ X ├┤ Y ├┤M├\n",
      "       └───┘└───┘└╥┘\n",
      "c24: 1/═══════════╩═\n",
      "                  0 \n"
     ]
    },
    {
     "name": "stderr",
     "output_type": "stream",
     "text": [
      "127.0.0.1 - - [30/Jun/2023 21:06:33] \"POST / HTTP/1.1\" 200 -\n"
     ]
    }
   ],
   "source": [
    "# Python 3 server example\n",
    "from http.server import BaseHTTPRequestHandler, HTTPServer\n",
    "import time\n",
    "\n",
    "import json\n",
    "\n",
    "hostName = \"localhost\"\n",
    "serverPort = 8082\n",
    "\n",
    "class MyServer(BaseHTTPRequestHandler):\n",
    "    def do_GET(self):\n",
    "        self.send_response(200)\n",
    "        self.send_header(\"Content-type\", \"text/html\")\n",
    "        self.end_headers()\n",
    "        self.wfile.write(bytes(json.dumps(a, ensure_ascii=False), 'utf-8'))\n",
    "    \n",
    "    def do_POST(self):\n",
    "        content_len = int(self.headers.get('Content-Length'))\n",
    "        post_body = self.rfile.read(content_len)\n",
    "        \n",
    "        content = json.loads(post_body)\n",
    "        content_dict = json.loads(content)\n",
    "        print('Request with body: ', content_dict)\n",
    "        \n",
    "        self.send_response(200)\n",
    "        self.send_header('Content-type','text/html')\n",
    "        self.end_headers()\n",
    "\n",
    "        message = compute_response(content_dict)\n",
    "        self.wfile.write(bytes(message, \"utf8\"))\n",
    "        \n",
    "if __name__ == \"__main__\":        \n",
    "    webServer = HTTPServer((hostName, serverPort), MyServer)\n",
    "    print(\"Server started http://%s:%s\" % (hostName, serverPort))\n",
    "\n",
    "    try:\n",
    "        webServer.serve_forever()\n",
    "    except KeyboardInterrupt:\n",
    "        passhttp://localhost:8888/notebooks/QuantumServer.ipynb#\n",
    "\n",
    "    webServer.server_close()\n",
    "    print(\"Server stopped.\")"
   ]
  },
  {
   "cell_type": "code",
   "execution_count": null,
   "id": "dda5d36a",
   "metadata": {},
   "outputs": [],
   "source": []
  }
 ],
 "metadata": {
  "kernelspec": {
   "display_name": "Python 3 (ipykernel)",
   "language": "python",
   "name": "python3"
  },
  "language_info": {
   "codemirror_mode": {
    "name": "ipython",
    "version": 3
   },
   "file_extension": ".py",
   "mimetype": "text/x-python",
   "name": "python",
   "nbconvert_exporter": "python",
   "pygments_lexer": "ipython3",
   "version": "3.9.7"
  }
 },
 "nbformat": 4,
 "nbformat_minor": 5
}
